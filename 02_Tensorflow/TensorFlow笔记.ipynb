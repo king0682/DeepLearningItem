{
 "cells": [
  {
   "cell_type": "code",
   "execution_count": 10,
   "metadata": {
    "collapsed": true
   },
   "outputs": [],
   "source": [
    "#coding:utf-8\n",
    "import tensorflow as tf\n",
    "import numpy as np"
   ]
  },
  {
   "cell_type": "code",
   "execution_count": 11,
   "metadata": {
    "collapsed": true
   },
   "outputs": [],
   "source": [
    "# batch_size：一次喂给神经网络多少数据（数据不可以过大）\n",
    "BATCH_SIZE = 8\n",
    "seed = 23455"
   ]
  },
  {
   "cell_type": "code",
   "execution_count": 12,
   "metadata": {},
   "outputs": [
    {
     "name": "stdout",
     "output_type": "stream",
     "text": [
      "X:\n",
      " [[ 0.83494319  0.11482951]\n",
      " [ 0.66899751  0.46594987]\n",
      " [ 0.60181666  0.58838408]\n",
      " [ 0.31836656  0.20502072]\n",
      " [ 0.87043944  0.02679395]\n",
      " [ 0.41539811  0.43938369]\n",
      " [ 0.68635684  0.24833404]\n",
      " [ 0.97315228  0.68541849]\n",
      " [ 0.03081617  0.89479913]\n",
      " [ 0.24665715  0.28584862]\n",
      " [ 0.31375667  0.47718349]\n",
      " [ 0.56689254  0.77079148]\n",
      " [ 0.7321604   0.35828963]\n",
      " [ 0.15724842  0.94294584]\n",
      " [ 0.34933722  0.84634483]\n",
      " [ 0.50304053  0.81299619]\n",
      " [ 0.23869886  0.9895604 ]\n",
      " [ 0.4636501   0.32531094]\n",
      " [ 0.36510487  0.97365522]\n",
      " [ 0.73350238  0.83833013]\n",
      " [ 0.61810158  0.12580353]\n",
      " [ 0.59274817  0.18779828]\n",
      " [ 0.87150299  0.34679501]\n",
      " [ 0.25883219  0.50002932]\n",
      " [ 0.75690948  0.83429824]\n",
      " [ 0.29316649  0.05646578]\n",
      " [ 0.10409134  0.88235166]\n",
      " [ 0.06727785  0.57784761]\n",
      " [ 0.38492705  0.48384792]\n",
      " [ 0.69234428  0.19687348]\n",
      " [ 0.42783492  0.73416985]\n",
      " [ 0.09696069  0.04883936]]\n",
      "Y:\n",
      " [[1], [0], [0], [1], [1], [1], [1], [0], [1], [1], [1], [0], [0], [0], [0], [0], [0], [1], [0], [0], [1], [1], [0], [1], [0], [1], [1], [1], [1], [1], [0], [1]]\n"
     ]
    }
   ],
   "source": [
    "# 利用随机种子生成数据集\n",
    "rng = np.random.RandomState(seed)\n",
    "X = rng.rand(32,2)\n",
    "Y = [[int(x0 + x1 < 1)] for (x0, x1) in X]\n",
    "print(\"X:\\n\",X)\n",
    "print(\"Y:\\n\",Y)"
   ]
  },
  {
   "cell_type": "code",
   "execution_count": 14,
   "metadata": {},
   "outputs": [],
   "source": [
    "# 前向传播\n",
    "# 定义神经网络输入、参数、输出\n",
    "x = tf.placeholder(tf.float32, shape=(None, 2))\n",
    "y = tf.placeholder(tf.float32, shape=(None, 1))\n",
    "\n",
    "w1 = tf.Variable(tf.random_normal([2, 3], stddev=1, seed=1))\n",
    "w2 = tf.Variable(tf.random_normal([3, 1], stddev=1, seed=1))\n",
    "\n",
    "a = tf.matmul(x, w1)"
   ]
  },
  {
   "cell_type": "code",
   "execution_count": null,
   "metadata": {
    "collapsed": true
   },
   "outputs": [],
   "source": []
  }
 ],
 "metadata": {
  "kernelspec": {
   "display_name": "Python 3",
   "language": "python",
   "name": "python3"
  },
  "language_info": {
   "codemirror_mode": {
    "name": "ipython",
    "version": 3
   },
   "file_extension": ".py",
   "mimetype": "text/x-python",
   "name": "python",
   "nbconvert_exporter": "python",
   "pygments_lexer": "ipython3",
   "version": "3.6.3"
  },
  "toc": {
   "base_numbering": 1,
   "nav_menu": {},
   "number_sections": true,
   "sideBar": true,
   "skip_h1_title": false,
   "title_cell": "Table of Contents",
   "title_sidebar": "Contents",
   "toc_cell": false,
   "toc_position": {},
   "toc_section_display": true,
   "toc_window_display": true
  }
 },
 "nbformat": 4,
 "nbformat_minor": 2
}
